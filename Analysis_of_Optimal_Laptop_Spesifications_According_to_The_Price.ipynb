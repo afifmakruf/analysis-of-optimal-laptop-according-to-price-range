{
 "cells": [
  {
   "cell_type": "markdown",
   "metadata": {},
   "source": [
    "Dashboard URL: https://public.tableau.com/app/profile/afif.makruf/viz/P1M2/Dashboard1?publish=yes"
   ]
  },
  {
   "cell_type": "markdown",
   "metadata": {},
   "source": [
    "# Problem Identification"
   ]
  },
  {
   "cell_type": "markdown",
   "metadata": {},
   "source": [
    "### Defining the Problem Statement<br>\n",
    "Using the SMART Framework:\n",
    "1. **Specific**: Obtained a laptop from Galuh Computer shop.\n",
    "\n",
    "2. **Measurable**: Obtain a laptop that fits the budget and is the most optimal.\n",
    "\n",
    "3. **Achievable**: Utilise available data and exploratory analysis techniques, and provide useful insights.\n",
    "\n",
    "4. **Relevant**: Provides useful insights for buyers to choose a suitable laptop. \n",
    "\n",
    "5. **Time-Bound**: In 5 days time.\n",
    "\n",
    "`Problem Statement`:<br>\n",
    "Get the most optimal and budget-friendly laptop from Galuh Computer store within 5 days."
   ]
  },
  {
   "cell_type": "markdown",
   "metadata": {},
   "source": [
    "### Breaking Down the Problem\n",
    "\n",
    "Main problem: `Buyers don't know which laptop to buy`\n",
    "\n",
    "To facilitate analysis and problem solving, it is necessary to understand the details of the problem. The method used is `5W+1H`.\n",
    "\n",
    "`5W+1H`:\n",
    "- What types of laptops do most brands release?\n",
    "- Which laptop brands have released the most products?\n",
    "- Do laptop prices differ significantly by brand?\n",
    "- What is the correlation between RAM and Price?\n",
    "- What is the correlation between CPU Frequency and Price?\n",
    "- What is the correlation between Memory type score and Price?\n",
    "- What is the correlation between GPU type Score and Price?\n",
    "- How to determine the budget for buyers?\n",
    "- How to determine the optimal laptop specifications within a certain budget range?"
   ]
  },
  {
   "cell_type": "markdown",
   "metadata": {},
   "source": [
    "# Data Loading"
   ]
  },
  {
   "cell_type": "markdown",
   "metadata": {},
   "source": [
    "Dataset source: https://www.kaggle.com/datasets/ironwolf437/laptop-price-dataset"
   ]
  },
  {
   "cell_type": "markdown",
   "metadata": {},
   "source": [
    "Import the required libraries"
   ]
  },
  {
   "cell_type": "code",
   "execution_count": 83,
   "metadata": {},
   "outputs": [
    {
     "name": "stderr",
     "output_type": "stream",
     "text": [
      "/var/folders/mp/4nzj1b3165sc5bv0_4ydnqp80000gn/T/ipykernel_89592/3160700537.py:9: DeprecationWarning: Importing display from IPython.core.display is deprecated since IPython 7.14, please import from IPython display\n",
      "  from IPython.core.display import display, HTML\n"
     ]
    }
   ],
   "source": [
    "import pandas as pd\n",
    "import seaborn as sns\n",
    "import numpy as np\n",
    "import matplotlib.pyplot as plt\n",
    "import scipy.stats as stats\n",
    "from sklearn.preprocessing import MinMaxScaler\n",
    "from scipy.stats import skew, kurtosis\n",
    "from scipy.stats import shapiro\n",
    "from IPython.core.display import display, HTML"
   ]
  },
  {
   "cell_type": "code",
   "execution_count": 39,
   "metadata": {},
   "outputs": [],
   "source": [
    "df = pd.read_csv('laptop_price - dataset.csv')"
   ]
  },
  {
   "cell_type": "code",
   "execution_count": 40,
   "metadata": {},
   "outputs": [
    {
     "data": {
      "text/html": [
       "<div>\n",
       "<style scoped>\n",
       "    .dataframe tbody tr th:only-of-type {\n",
       "        vertical-align: middle;\n",
       "    }\n",
       "\n",
       "    .dataframe tbody tr th {\n",
       "        vertical-align: top;\n",
       "    }\n",
       "\n",
       "    .dataframe thead th {\n",
       "        text-align: right;\n",
       "    }\n",
       "</style>\n",
       "<table border=\"1\" class=\"dataframe\">\n",
       "  <thead>\n",
       "    <tr style=\"text-align: right;\">\n",
       "      <th></th>\n",
       "      <th>Company</th>\n",
       "      <th>Product</th>\n",
       "      <th>TypeName</th>\n",
       "      <th>Inches</th>\n",
       "      <th>ScreenResolution</th>\n",
       "      <th>CPU_Company</th>\n",
       "      <th>CPU_Type</th>\n",
       "      <th>CPU_Frequency (GHz)</th>\n",
       "      <th>RAM (GB)</th>\n",
       "      <th>Memory</th>\n",
       "      <th>GPU_Company</th>\n",
       "      <th>GPU_Type</th>\n",
       "      <th>OpSys</th>\n",
       "      <th>Weight (kg)</th>\n",
       "      <th>Price (Euro)</th>\n",
       "    </tr>\n",
       "  </thead>\n",
       "  <tbody>\n",
       "    <tr>\n",
       "      <th>0</th>\n",
       "      <td>Apple</td>\n",
       "      <td>MacBook Pro</td>\n",
       "      <td>Ultrabook</td>\n",
       "      <td>13.3</td>\n",
       "      <td>IPS Panel Retina Display 2560x1600</td>\n",
       "      <td>Intel</td>\n",
       "      <td>Core i5</td>\n",
       "      <td>2.3</td>\n",
       "      <td>8</td>\n",
       "      <td>128GB SSD</td>\n",
       "      <td>Intel</td>\n",
       "      <td>Iris Plus Graphics 640</td>\n",
       "      <td>macOS</td>\n",
       "      <td>1.37</td>\n",
       "      <td>1339.69</td>\n",
       "    </tr>\n",
       "    <tr>\n",
       "      <th>1</th>\n",
       "      <td>Apple</td>\n",
       "      <td>Macbook Air</td>\n",
       "      <td>Ultrabook</td>\n",
       "      <td>13.3</td>\n",
       "      <td>1440x900</td>\n",
       "      <td>Intel</td>\n",
       "      <td>Core i5</td>\n",
       "      <td>1.8</td>\n",
       "      <td>8</td>\n",
       "      <td>128GB Flash Storage</td>\n",
       "      <td>Intel</td>\n",
       "      <td>HD Graphics 6000</td>\n",
       "      <td>macOS</td>\n",
       "      <td>1.34</td>\n",
       "      <td>898.94</td>\n",
       "    </tr>\n",
       "    <tr>\n",
       "      <th>2</th>\n",
       "      <td>HP</td>\n",
       "      <td>250 G6</td>\n",
       "      <td>Notebook</td>\n",
       "      <td>15.6</td>\n",
       "      <td>Full HD 1920x1080</td>\n",
       "      <td>Intel</td>\n",
       "      <td>Core i5 7200U</td>\n",
       "      <td>2.5</td>\n",
       "      <td>8</td>\n",
       "      <td>256GB SSD</td>\n",
       "      <td>Intel</td>\n",
       "      <td>HD Graphics 620</td>\n",
       "      <td>No OS</td>\n",
       "      <td>1.86</td>\n",
       "      <td>575.00</td>\n",
       "    </tr>\n",
       "    <tr>\n",
       "      <th>3</th>\n",
       "      <td>Apple</td>\n",
       "      <td>MacBook Pro</td>\n",
       "      <td>Ultrabook</td>\n",
       "      <td>15.4</td>\n",
       "      <td>IPS Panel Retina Display 2880x1800</td>\n",
       "      <td>Intel</td>\n",
       "      <td>Core i7</td>\n",
       "      <td>2.7</td>\n",
       "      <td>16</td>\n",
       "      <td>512GB SSD</td>\n",
       "      <td>AMD</td>\n",
       "      <td>Radeon Pro 455</td>\n",
       "      <td>macOS</td>\n",
       "      <td>1.83</td>\n",
       "      <td>2537.45</td>\n",
       "    </tr>\n",
       "    <tr>\n",
       "      <th>4</th>\n",
       "      <td>Apple</td>\n",
       "      <td>MacBook Pro</td>\n",
       "      <td>Ultrabook</td>\n",
       "      <td>13.3</td>\n",
       "      <td>IPS Panel Retina Display 2560x1600</td>\n",
       "      <td>Intel</td>\n",
       "      <td>Core i5</td>\n",
       "      <td>3.1</td>\n",
       "      <td>8</td>\n",
       "      <td>256GB SSD</td>\n",
       "      <td>Intel</td>\n",
       "      <td>Iris Plus Graphics 650</td>\n",
       "      <td>macOS</td>\n",
       "      <td>1.37</td>\n",
       "      <td>1803.60</td>\n",
       "    </tr>\n",
       "    <tr>\n",
       "      <th>5</th>\n",
       "      <td>Acer</td>\n",
       "      <td>Aspire 3</td>\n",
       "      <td>Notebook</td>\n",
       "      <td>15.6</td>\n",
       "      <td>1366x768</td>\n",
       "      <td>AMD</td>\n",
       "      <td>A9-Series 9420</td>\n",
       "      <td>3.0</td>\n",
       "      <td>4</td>\n",
       "      <td>500GB HDD</td>\n",
       "      <td>AMD</td>\n",
       "      <td>Radeon R5</td>\n",
       "      <td>Windows 10</td>\n",
       "      <td>2.10</td>\n",
       "      <td>400.00</td>\n",
       "    </tr>\n",
       "    <tr>\n",
       "      <th>6</th>\n",
       "      <td>Apple</td>\n",
       "      <td>MacBook Pro</td>\n",
       "      <td>Ultrabook</td>\n",
       "      <td>15.4</td>\n",
       "      <td>IPS Panel Retina Display 2880x1800</td>\n",
       "      <td>Intel</td>\n",
       "      <td>Core i7</td>\n",
       "      <td>2.2</td>\n",
       "      <td>16</td>\n",
       "      <td>256GB Flash Storage</td>\n",
       "      <td>Intel</td>\n",
       "      <td>Iris Pro Graphics</td>\n",
       "      <td>Mac OS X</td>\n",
       "      <td>2.04</td>\n",
       "      <td>2139.97</td>\n",
       "    </tr>\n",
       "    <tr>\n",
       "      <th>7</th>\n",
       "      <td>Apple</td>\n",
       "      <td>Macbook Air</td>\n",
       "      <td>Ultrabook</td>\n",
       "      <td>13.3</td>\n",
       "      <td>1440x900</td>\n",
       "      <td>Intel</td>\n",
       "      <td>Core i5</td>\n",
       "      <td>1.8</td>\n",
       "      <td>8</td>\n",
       "      <td>256GB Flash Storage</td>\n",
       "      <td>Intel</td>\n",
       "      <td>HD Graphics 6000</td>\n",
       "      <td>macOS</td>\n",
       "      <td>1.34</td>\n",
       "      <td>1158.70</td>\n",
       "    </tr>\n",
       "    <tr>\n",
       "      <th>8</th>\n",
       "      <td>Asus</td>\n",
       "      <td>ZenBook UX430UN</td>\n",
       "      <td>Ultrabook</td>\n",
       "      <td>14.0</td>\n",
       "      <td>Full HD 1920x1080</td>\n",
       "      <td>Intel</td>\n",
       "      <td>Core i7 8550U</td>\n",
       "      <td>1.8</td>\n",
       "      <td>16</td>\n",
       "      <td>512GB SSD</td>\n",
       "      <td>Nvidia</td>\n",
       "      <td>GeForce MX150</td>\n",
       "      <td>Windows 10</td>\n",
       "      <td>1.30</td>\n",
       "      <td>1495.00</td>\n",
       "    </tr>\n",
       "    <tr>\n",
       "      <th>9</th>\n",
       "      <td>Acer</td>\n",
       "      <td>Swift 3</td>\n",
       "      <td>Ultrabook</td>\n",
       "      <td>14.0</td>\n",
       "      <td>IPS Panel Full HD 1920x1080</td>\n",
       "      <td>Intel</td>\n",
       "      <td>Core i5 8250U</td>\n",
       "      <td>1.6</td>\n",
       "      <td>8</td>\n",
       "      <td>256GB SSD</td>\n",
       "      <td>Intel</td>\n",
       "      <td>UHD Graphics 620</td>\n",
       "      <td>Windows 10</td>\n",
       "      <td>1.60</td>\n",
       "      <td>770.00</td>\n",
       "    </tr>\n",
       "  </tbody>\n",
       "</table>\n",
       "</div>"
      ],
      "text/plain": [
       "  Company          Product   TypeName  Inches  \\\n",
       "0   Apple      MacBook Pro  Ultrabook    13.3   \n",
       "1   Apple      Macbook Air  Ultrabook    13.3   \n",
       "2      HP           250 G6   Notebook    15.6   \n",
       "3   Apple      MacBook Pro  Ultrabook    15.4   \n",
       "4   Apple      MacBook Pro  Ultrabook    13.3   \n",
       "5    Acer         Aspire 3   Notebook    15.6   \n",
       "6   Apple      MacBook Pro  Ultrabook    15.4   \n",
       "7   Apple      Macbook Air  Ultrabook    13.3   \n",
       "8    Asus  ZenBook UX430UN  Ultrabook    14.0   \n",
       "9    Acer          Swift 3  Ultrabook    14.0   \n",
       "\n",
       "                     ScreenResolution CPU_Company        CPU_Type  \\\n",
       "0  IPS Panel Retina Display 2560x1600       Intel         Core i5   \n",
       "1                            1440x900       Intel         Core i5   \n",
       "2                   Full HD 1920x1080       Intel   Core i5 7200U   \n",
       "3  IPS Panel Retina Display 2880x1800       Intel         Core i7   \n",
       "4  IPS Panel Retina Display 2560x1600       Intel         Core i5   \n",
       "5                            1366x768         AMD  A9-Series 9420   \n",
       "6  IPS Panel Retina Display 2880x1800       Intel         Core i7   \n",
       "7                            1440x900       Intel         Core i5   \n",
       "8                   Full HD 1920x1080       Intel   Core i7 8550U   \n",
       "9         IPS Panel Full HD 1920x1080       Intel   Core i5 8250U   \n",
       "\n",
       "   CPU_Frequency (GHz)  RAM (GB)               Memory GPU_Company  \\\n",
       "0                  2.3         8            128GB SSD       Intel   \n",
       "1                  1.8         8  128GB Flash Storage       Intel   \n",
       "2                  2.5         8            256GB SSD       Intel   \n",
       "3                  2.7        16            512GB SSD         AMD   \n",
       "4                  3.1         8            256GB SSD       Intel   \n",
       "5                  3.0         4            500GB HDD         AMD   \n",
       "6                  2.2        16  256GB Flash Storage       Intel   \n",
       "7                  1.8         8  256GB Flash Storage       Intel   \n",
       "8                  1.8        16            512GB SSD      Nvidia   \n",
       "9                  1.6         8            256GB SSD       Intel   \n",
       "\n",
       "                 GPU_Type       OpSys  Weight (kg)  Price (Euro)  \n",
       "0  Iris Plus Graphics 640       macOS         1.37       1339.69  \n",
       "1        HD Graphics 6000       macOS         1.34        898.94  \n",
       "2         HD Graphics 620       No OS         1.86        575.00  \n",
       "3          Radeon Pro 455       macOS         1.83       2537.45  \n",
       "4  Iris Plus Graphics 650       macOS         1.37       1803.60  \n",
       "5               Radeon R5  Windows 10         2.10        400.00  \n",
       "6       Iris Pro Graphics    Mac OS X         2.04       2139.97  \n",
       "7        HD Graphics 6000       macOS         1.34       1158.70  \n",
       "8           GeForce MX150  Windows 10         1.30       1495.00  \n",
       "9        UHD Graphics 620  Windows 10         1.60        770.00  "
      ]
     },
     "execution_count": 40,
     "metadata": {},
     "output_type": "execute_result"
    }
   ],
   "source": [
    "df.head(10)"
   ]
  },
  {
   "cell_type": "code",
   "execution_count": 41,
   "metadata": {},
   "outputs": [
    {
     "name": "stdout",
     "output_type": "stream",
     "text": [
      "Jumlah kolom :15\n",
      "Jumlah baris :1275\n"
     ]
    }
   ],
   "source": [
    "# Menampilkan jumlah kolom dan baris dari dataframe\n",
    "print(f\"Jumlah kolom :{df.shape[1]}\\nJumlah baris :{df.shape[0]}\")"
   ]
  },
  {
   "cell_type": "markdown",
   "metadata": {},
   "source": [
    "Explanation Columns contained in the dataset:\n",
    "| Kolom | Description | Data Type | Example Value|\n",
    "|------| ------| ------| ------|\n",
    "| Company | Brand laptop | String | ['Apple', 'HP', 'Acer']\n",
    "| Product | Nama laptop | String | ['Macbook Pro', '250 G6', 'Aspire 3']\n",
    "| TypeName | Laptop type | String | ['Ultrabook', 'Notebook', 'Netbook']\n",
    "| Inches | Laptop size (Inches) | Float | ['13.3', '15.6', '15.4']\n",
    "| ScreenResolution | Laptop screen resolution | String | ['IPS Panel Retina Display 2560x1600', 'Full HD 1920x1080', '1366x768']\n",
    "| CPU_Company | CPU brand | String | ['Intel', 'AMD', 'Samsung']\n",
    "| CPU_Type | Processor | String | ['Core i5', 'Core i5 7200U', 'A9-Series 9420']\n",
    "| CPU_Frequency (GHz) | CPU frequency of the laptop (GHz) | Float | ['2.3', '2.5', '3.0']\n",
    "| RAM (GB) | Amount of RAM used (GB) | Integer | ['8', '16', '32']\n",
    "| Memory | Laptop memory | String | ['128GB SSD', '256GB SSD', '500GB HDD\t']\n",
    "| GPU_Company | Brand of GPU | String | ['Intel', 'AMD', 'Nvidia']\n",
    "| GPU_Type | GPU  | String | ['Iris Plus Graphics 640', 'HD Graphics 620', 'Radeon R5']\n",
    "| OpSys | Operation System | String | ['macOS', 'No OS', 'Windows 10']\n",
    "| Weight (kg) | Weight (Kg) | Float | ['1.37', '1.86', '2.10']\n",
    "| Price (Euro) | Price (Euro) | Float | ['1339.69', '575.00', '400.00']"
   ]
  },
  {
   "cell_type": "code",
   "execution_count": 42,
   "metadata": {},
   "outputs": [
    {
     "name": "stdout",
     "output_type": "stream",
     "text": [
      "<class 'pandas.core.frame.DataFrame'>\n",
      "RangeIndex: 1275 entries, 0 to 1274\n",
      "Data columns (total 15 columns):\n",
      " #   Column               Non-Null Count  Dtype  \n",
      "---  ------               --------------  -----  \n",
      " 0   Company              1275 non-null   object \n",
      " 1   Product              1275 non-null   object \n",
      " 2   TypeName             1275 non-null   object \n",
      " 3   Inches               1275 non-null   float64\n",
      " 4   ScreenResolution     1275 non-null   object \n",
      " 5   CPU_Company          1275 non-null   object \n",
      " 6   CPU_Type             1275 non-null   object \n",
      " 7   CPU_Frequency (GHz)  1275 non-null   float64\n",
      " 8   RAM (GB)             1275 non-null   int64  \n",
      " 9   Memory               1275 non-null   object \n",
      " 10  GPU_Company          1275 non-null   object \n",
      " 11  GPU_Type             1275 non-null   object \n",
      " 12  OpSys                1275 non-null   object \n",
      " 13  Weight (kg)          1275 non-null   float64\n",
      " 14  Price (Euro)         1275 non-null   float64\n",
      "dtypes: float64(4), int64(1), object(10)\n",
      "memory usage: 149.5+ KB\n"
     ]
    },
    {
     "data": {
      "text/html": [
       "<div>\n",
       "<style scoped>\n",
       "    .dataframe tbody tr th:only-of-type {\n",
       "        vertical-align: middle;\n",
       "    }\n",
       "\n",
       "    .dataframe tbody tr th {\n",
       "        vertical-align: top;\n",
       "    }\n",
       "\n",
       "    .dataframe thead th {\n",
       "        text-align: right;\n",
       "    }\n",
       "</style>\n",
       "<table border=\"1\" class=\"dataframe\">\n",
       "  <thead>\n",
       "    <tr style=\"text-align: right;\">\n",
       "      <th></th>\n",
       "      <th>Inches</th>\n",
       "      <th>CPU_Frequency (GHz)</th>\n",
       "      <th>RAM (GB)</th>\n",
       "      <th>Weight (kg)</th>\n",
       "      <th>Price (Euro)</th>\n",
       "    </tr>\n",
       "  </thead>\n",
       "  <tbody>\n",
       "    <tr>\n",
       "      <th>count</th>\n",
       "      <td>1275.000000</td>\n",
       "      <td>1275.000000</td>\n",
       "      <td>1275.000000</td>\n",
       "      <td>1275.000000</td>\n",
       "      <td>1275.000000</td>\n",
       "    </tr>\n",
       "    <tr>\n",
       "      <th>mean</th>\n",
       "      <td>15.022902</td>\n",
       "      <td>2.302980</td>\n",
       "      <td>8.440784</td>\n",
       "      <td>2.040525</td>\n",
       "      <td>1134.969059</td>\n",
       "    </tr>\n",
       "    <tr>\n",
       "      <th>std</th>\n",
       "      <td>1.429470</td>\n",
       "      <td>0.503846</td>\n",
       "      <td>5.097809</td>\n",
       "      <td>0.669196</td>\n",
       "      <td>700.752504</td>\n",
       "    </tr>\n",
       "    <tr>\n",
       "      <th>min</th>\n",
       "      <td>10.100000</td>\n",
       "      <td>0.900000</td>\n",
       "      <td>2.000000</td>\n",
       "      <td>0.690000</td>\n",
       "      <td>174.000000</td>\n",
       "    </tr>\n",
       "    <tr>\n",
       "      <th>25%</th>\n",
       "      <td>14.000000</td>\n",
       "      <td>2.000000</td>\n",
       "      <td>4.000000</td>\n",
       "      <td>1.500000</td>\n",
       "      <td>609.000000</td>\n",
       "    </tr>\n",
       "    <tr>\n",
       "      <th>50%</th>\n",
       "      <td>15.600000</td>\n",
       "      <td>2.500000</td>\n",
       "      <td>8.000000</td>\n",
       "      <td>2.040000</td>\n",
       "      <td>989.000000</td>\n",
       "    </tr>\n",
       "    <tr>\n",
       "      <th>75%</th>\n",
       "      <td>15.600000</td>\n",
       "      <td>2.700000</td>\n",
       "      <td>8.000000</td>\n",
       "      <td>2.310000</td>\n",
       "      <td>1496.500000</td>\n",
       "    </tr>\n",
       "    <tr>\n",
       "      <th>max</th>\n",
       "      <td>18.400000</td>\n",
       "      <td>3.600000</td>\n",
       "      <td>64.000000</td>\n",
       "      <td>4.700000</td>\n",
       "      <td>6099.000000</td>\n",
       "    </tr>\n",
       "  </tbody>\n",
       "</table>\n",
       "</div>"
      ],
      "text/plain": [
       "            Inches  CPU_Frequency (GHz)     RAM (GB)  Weight (kg)  \\\n",
       "count  1275.000000          1275.000000  1275.000000  1275.000000   \n",
       "mean     15.022902             2.302980     8.440784     2.040525   \n",
       "std       1.429470             0.503846     5.097809     0.669196   \n",
       "min      10.100000             0.900000     2.000000     0.690000   \n",
       "25%      14.000000             2.000000     4.000000     1.500000   \n",
       "50%      15.600000             2.500000     8.000000     2.040000   \n",
       "75%      15.600000             2.700000     8.000000     2.310000   \n",
       "max      18.400000             3.600000    64.000000     4.700000   \n",
       "\n",
       "       Price (Euro)  \n",
       "count   1275.000000  \n",
       "mean    1134.969059  \n",
       "std      700.752504  \n",
       "min      174.000000  \n",
       "25%      609.000000  \n",
       "50%      989.000000  \n",
       "75%     1496.500000  \n",
       "max     6099.000000  "
      ]
     },
     "execution_count": 42,
     "metadata": {},
     "output_type": "execute_result"
    }
   ],
   "source": [
    "df.info()\n",
    "df.describe()"
   ]
  },
  {
   "cell_type": "code",
   "execution_count": 43,
   "metadata": {},
   "outputs": [
    {
     "data": {
      "text/plain": [
       "0"
      ]
     },
     "execution_count": 43,
     "metadata": {},
     "output_type": "execute_result"
    }
   ],
   "source": [
    "df.isnull().sum().sum()"
   ]
  },
  {
   "cell_type": "markdown",
   "metadata": {},
   "source": [
    "Based on the data above, all rows do not have missing values"
   ]
  },
  {
   "cell_type": "markdown",
   "metadata": {},
   "source": [
    "# Data Cleaning"
   ]
  },
  {
   "cell_type": "markdown",
   "metadata": {},
   "source": [
    "This section contains the data preparation process in the form of data cleaning before further data exploration. The cleaning process can include giving a new name to each column, filling in missing values, deleting unused columns, and so on."
   ]
  },
  {
   "cell_type": "code",
   "execution_count": 44,
   "metadata": {},
   "outputs": [
    {
     "name": "stdout",
     "output_type": "stream",
     "text": [
      "<class 'pandas.core.frame.DataFrame'>\n",
      "RangeIndex: 1275 entries, 0 to 1274\n",
      "Data columns (total 15 columns):\n",
      " #   Column               Non-Null Count  Dtype  \n",
      "---  ------               --------------  -----  \n",
      " 0   Company              1275 non-null   object \n",
      " 1   Product              1275 non-null   object \n",
      " 2   TypeName             1275 non-null   object \n",
      " 3   Inches               1275 non-null   float64\n",
      " 4   ScreenResolution     1275 non-null   object \n",
      " 5   CPU_Company          1275 non-null   object \n",
      " 6   CPU_Type             1275 non-null   object \n",
      " 7   CPU_Frequency (GHz)  1275 non-null   float64\n",
      " 8   RAM (GB)             1275 non-null   int64  \n",
      " 9   Memory               1275 non-null   object \n",
      " 10  GPU_Company          1275 non-null   object \n",
      " 11  GPU_Type             1275 non-null   object \n",
      " 12  OpSys                1275 non-null   object \n",
      " 13  Weight (kg)          1275 non-null   float64\n",
      " 14  Price (Euro)         1275 non-null   float64\n",
      "dtypes: float64(4), int64(1), object(10)\n",
      "memory usage: 149.5+ KB\n"
     ]
    }
   ],
   "source": [
    "df.info()"
   ]
  },
  {
   "cell_type": "markdown",
   "metadata": {},
   "source": [
    "Based on the data above, there are some columns that we think should be broken down, some columns that should be combined, as well as adding some columns"
   ]
  },
  {
   "cell_type": "code",
   "execution_count": 45,
   "metadata": {},
   "outputs": [],
   "source": [
    "# Menginisialisasi bahwa 'data' adalah duplikat dari df\n",
    "data = df.copy()"
   ]
  },
  {
   "cell_type": "code",
   "execution_count": 46,
   "metadata": {},
   "outputs": [],
   "source": [
    "# Menggabungkan dua kolom menjadi satu kolom\n",
    "data['CPU'] = data['CPU_Company']+ ' ' + data['CPU_Type']\n",
    "data['GPU'] = data['GPU_Company']+ ' ' + data['GPU_Type']"
   ]
  },
  {
   "cell_type": "markdown",
   "metadata": {},
   "source": [
    "Split the Memory column into 2 columns,<br>\n",
    "the first column Memory by taking the amount of memory<br>\n",
    "the second column Memory_Type by taking the type of memory used"
   ]
  },
  {
   "cell_type": "code",
   "execution_count": 47,
   "metadata": {},
   "outputs": [
    {
     "data": {
      "text/html": [
       "<div>\n",
       "<style scoped>\n",
       "    .dataframe tbody tr th:only-of-type {\n",
       "        vertical-align: middle;\n",
       "    }\n",
       "\n",
       "    .dataframe tbody tr th {\n",
       "        vertical-align: top;\n",
       "    }\n",
       "\n",
       "    .dataframe thead th {\n",
       "        text-align: right;\n",
       "    }\n",
       "</style>\n",
       "<table border=\"1\" class=\"dataframe\">\n",
       "  <thead>\n",
       "    <tr style=\"text-align: right;\">\n",
       "      <th></th>\n",
       "      <th>Company</th>\n",
       "      <th>Product</th>\n",
       "      <th>TypeName</th>\n",
       "      <th>Inches</th>\n",
       "      <th>ScreenResolution</th>\n",
       "      <th>CPU_Company</th>\n",
       "      <th>CPU_Type</th>\n",
       "      <th>CPU_Frequency (GHz)</th>\n",
       "      <th>RAM (GB)</th>\n",
       "      <th>Memory</th>\n",
       "      <th>GPU_Company</th>\n",
       "      <th>GPU_Type</th>\n",
       "      <th>OpSys</th>\n",
       "      <th>Weight (kg)</th>\n",
       "      <th>Price (Euro)</th>\n",
       "      <th>CPU</th>\n",
       "      <th>GPU</th>\n",
       "    </tr>\n",
       "  </thead>\n",
       "  <tbody>\n",
       "    <tr>\n",
       "      <th>0</th>\n",
       "      <td>Apple</td>\n",
       "      <td>MacBook Pro</td>\n",
       "      <td>Ultrabook</td>\n",
       "      <td>13.3</td>\n",
       "      <td>IPS Panel Retina Display 2560x1600</td>\n",
       "      <td>Intel</td>\n",
       "      <td>Core i5</td>\n",
       "      <td>2.3</td>\n",
       "      <td>8</td>\n",
       "      <td>128GB SSD</td>\n",
       "      <td>Intel</td>\n",
       "      <td>Iris Plus Graphics 640</td>\n",
       "      <td>macOS</td>\n",
       "      <td>1.37</td>\n",
       "      <td>1339.69</td>\n",
       "      <td>Intel Core i5</td>\n",
       "      <td>Intel Iris Plus Graphics 640</td>\n",
       "    </tr>\n",
       "    <tr>\n",
       "      <th>1</th>\n",
       "      <td>Apple</td>\n",
       "      <td>Macbook Air</td>\n",
       "      <td>Ultrabook</td>\n",
       "      <td>13.3</td>\n",
       "      <td>1440x900</td>\n",
       "      <td>Intel</td>\n",
       "      <td>Core i5</td>\n",
       "      <td>1.8</td>\n",
       "      <td>8</td>\n",
       "      <td>128GB Flash Storage</td>\n",
       "      <td>Intel</td>\n",
       "      <td>HD Graphics 6000</td>\n",
       "      <td>macOS</td>\n",
       "      <td>1.34</td>\n",
       "      <td>898.94</td>\n",
       "      <td>Intel Core i5</td>\n",
       "      <td>Intel HD Graphics 6000</td>\n",
       "    </tr>\n",
       "    <tr>\n",
       "      <th>2</th>\n",
       "      <td>HP</td>\n",
       "      <td>250 G6</td>\n",
       "      <td>Notebook</td>\n",
       "      <td>15.6</td>\n",
       "      <td>Full HD 1920x1080</td>\n",
       "      <td>Intel</td>\n",
       "      <td>Core i5 7200U</td>\n",
       "      <td>2.5</td>\n",
       "      <td>8</td>\n",
       "      <td>256GB SSD</td>\n",
       "      <td>Intel</td>\n",
       "      <td>HD Graphics 620</td>\n",
       "      <td>No OS</td>\n",
       "      <td>1.86</td>\n",
       "      <td>575.00</td>\n",
       "      <td>Intel Core i5 7200U</td>\n",
       "      <td>Intel HD Graphics 620</td>\n",
       "    </tr>\n",
       "    <tr>\n",
       "      <th>3</th>\n",
       "      <td>Apple</td>\n",
       "      <td>MacBook Pro</td>\n",
       "      <td>Ultrabook</td>\n",
       "      <td>15.4</td>\n",
       "      <td>IPS Panel Retina Display 2880x1800</td>\n",
       "      <td>Intel</td>\n",
       "      <td>Core i7</td>\n",
       "      <td>2.7</td>\n",
       "      <td>16</td>\n",
       "      <td>512GB SSD</td>\n",
       "      <td>AMD</td>\n",
       "      <td>Radeon Pro 455</td>\n",
       "      <td>macOS</td>\n",
       "      <td>1.83</td>\n",
       "      <td>2537.45</td>\n",
       "      <td>Intel Core i7</td>\n",
       "      <td>AMD Radeon Pro 455</td>\n",
       "    </tr>\n",
       "    <tr>\n",
       "      <th>4</th>\n",
       "      <td>Apple</td>\n",
       "      <td>MacBook Pro</td>\n",
       "      <td>Ultrabook</td>\n",
       "      <td>13.3</td>\n",
       "      <td>IPS Panel Retina Display 2560x1600</td>\n",
       "      <td>Intel</td>\n",
       "      <td>Core i5</td>\n",
       "      <td>3.1</td>\n",
       "      <td>8</td>\n",
       "      <td>256GB SSD</td>\n",
       "      <td>Intel</td>\n",
       "      <td>Iris Plus Graphics 650</td>\n",
       "      <td>macOS</td>\n",
       "      <td>1.37</td>\n",
       "      <td>1803.60</td>\n",
       "      <td>Intel Core i5</td>\n",
       "      <td>Intel Iris Plus Graphics 650</td>\n",
       "    </tr>\n",
       "  </tbody>\n",
       "</table>\n",
       "</div>"
      ],
      "text/plain": [
       "  Company      Product   TypeName  Inches                    ScreenResolution  \\\n",
       "0   Apple  MacBook Pro  Ultrabook    13.3  IPS Panel Retina Display 2560x1600   \n",
       "1   Apple  Macbook Air  Ultrabook    13.3                            1440x900   \n",
       "2      HP       250 G6   Notebook    15.6                   Full HD 1920x1080   \n",
       "3   Apple  MacBook Pro  Ultrabook    15.4  IPS Panel Retina Display 2880x1800   \n",
       "4   Apple  MacBook Pro  Ultrabook    13.3  IPS Panel Retina Display 2560x1600   \n",
       "\n",
       "  CPU_Company       CPU_Type  CPU_Frequency (GHz)  RAM (GB)  \\\n",
       "0       Intel        Core i5                  2.3         8   \n",
       "1       Intel        Core i5                  1.8         8   \n",
       "2       Intel  Core i5 7200U                  2.5         8   \n",
       "3       Intel        Core i7                  2.7        16   \n",
       "4       Intel        Core i5                  3.1         8   \n",
       "\n",
       "                Memory GPU_Company                GPU_Type  OpSys  \\\n",
       "0            128GB SSD       Intel  Iris Plus Graphics 640  macOS   \n",
       "1  128GB Flash Storage       Intel        HD Graphics 6000  macOS   \n",
       "2            256GB SSD       Intel         HD Graphics 620  No OS   \n",
       "3            512GB SSD         AMD          Radeon Pro 455  macOS   \n",
       "4            256GB SSD       Intel  Iris Plus Graphics 650  macOS   \n",
       "\n",
       "   Weight (kg)  Price (Euro)                  CPU  \\\n",
       "0         1.37       1339.69        Intel Core i5   \n",
       "1         1.34        898.94        Intel Core i5   \n",
       "2         1.86        575.00  Intel Core i5 7200U   \n",
       "3         1.83       2537.45        Intel Core i7   \n",
       "4         1.37       1803.60        Intel Core i5   \n",
       "\n",
       "                            GPU  \n",
       "0  Intel Iris Plus Graphics 640  \n",
       "1        Intel HD Graphics 6000  \n",
       "2         Intel HD Graphics 620  \n",
       "3            AMD Radeon Pro 455  \n",
       "4  Intel Iris Plus Graphics 650  "
      ]
     },
     "execution_count": 47,
     "metadata": {},
     "output_type": "execute_result"
    }
   ],
   "source": [
    "data.head(5)"
   ]
  },
  {
   "cell_type": "code",
   "execution_count": 48,
   "metadata": {},
   "outputs": [],
   "source": [
    "# Fungsi untuk menentukan jenis penyimpanan\n",
    "def get_storage_type(storage):\n",
    "    # Memeriksa apakah ada SSD, HDD, Flash Storage, Hybrid, atau kombinasi keduanya\n",
    "    if 'SSD' in storage and 'HDD' in storage:\n",
    "        if 'Hybrid' in storage:\n",
    "            return 'SSD + Hybrid'\n",
    "        return 'SSD + HDD'\n",
    "    elif 'SSD' in storage and 'Flash Storage' not in storage:\n",
    "        return 'SSD'\n",
    "    elif 'HDD' in storage:\n",
    "        return 'HDD'\n",
    "    elif 'Flash Storage' in storage:\n",
    "        return 'Flash Storage'\n",
    "    elif 'Hybrid' in storage:\n",
    "        return 'Hybrid'\n",
    "    else:\n",
    "        return 'Lain-Lain'  # Jika tidak ditemukan kategori yang sesuai\n",
    "\n",
    "# Menerapkan fungsi ke kolom 'Storage' untuk membuat kolom baru 'Storage Type'\n",
    "data['Memory_Type'] = data['Memory'].apply(get_storage_type)\n"
   ]
  },
  {
   "cell_type": "code",
   "execution_count": 49,
   "metadata": {},
   "outputs": [
    {
     "data": {
      "text/plain": [
       "Memory_Type\n",
       "Flash Storage     70\n",
       "HDD              360\n",
       "Hybrid             8\n",
       "SSD              637\n",
       "SSD + HDD        200\n",
       "dtype: int64"
      ]
     },
     "execution_count": 49,
     "metadata": {},
     "output_type": "execute_result"
    }
   ],
   "source": [
    "data.groupby('Memory_Type').size()"
   ]
  },
  {
   "cell_type": "code",
   "execution_count": 50,
   "metadata": {},
   "outputs": [
    {
     "data": {
      "text/html": [
       "<div>\n",
       "<style scoped>\n",
       "    .dataframe tbody tr th:only-of-type {\n",
       "        vertical-align: middle;\n",
       "    }\n",
       "\n",
       "    .dataframe tbody tr th {\n",
       "        vertical-align: top;\n",
       "    }\n",
       "\n",
       "    .dataframe thead th {\n",
       "        text-align: right;\n",
       "    }\n",
       "</style>\n",
       "<table border=\"1\" class=\"dataframe\">\n",
       "  <thead>\n",
       "    <tr style=\"text-align: right;\">\n",
       "      <th></th>\n",
       "      <th>Company</th>\n",
       "      <th>Product</th>\n",
       "      <th>TypeName</th>\n",
       "      <th>Inches</th>\n",
       "      <th>ScreenResolution</th>\n",
       "      <th>CPU_Company</th>\n",
       "      <th>CPU_Type</th>\n",
       "      <th>CPU_Frequency (GHz)</th>\n",
       "      <th>RAM (GB)</th>\n",
       "      <th>Memory</th>\n",
       "      <th>GPU_Company</th>\n",
       "      <th>GPU_Type</th>\n",
       "      <th>OpSys</th>\n",
       "      <th>Weight (kg)</th>\n",
       "      <th>Price (Euro)</th>\n",
       "      <th>CPU</th>\n",
       "      <th>GPU</th>\n",
       "      <th>Memory_Type</th>\n",
       "    </tr>\n",
       "  </thead>\n",
       "  <tbody>\n",
       "    <tr>\n",
       "      <th>1270</th>\n",
       "      <td>Lenovo</td>\n",
       "      <td>Yoga 500-14ISK</td>\n",
       "      <td>2 in 1 Convertible</td>\n",
       "      <td>14.0</td>\n",
       "      <td>IPS Panel Full HD / Touchscreen 1920x1080</td>\n",
       "      <td>Intel</td>\n",
       "      <td>Core i7 6500U</td>\n",
       "      <td>2.5</td>\n",
       "      <td>4</td>\n",
       "      <td>128GB SSD</td>\n",
       "      <td>Intel</td>\n",
       "      <td>HD Graphics 520</td>\n",
       "      <td>Windows 10</td>\n",
       "      <td>1.80</td>\n",
       "      <td>638.0</td>\n",
       "      <td>Intel Core i7 6500U</td>\n",
       "      <td>Intel HD Graphics 520</td>\n",
       "      <td>SSD</td>\n",
       "    </tr>\n",
       "    <tr>\n",
       "      <th>1271</th>\n",
       "      <td>Lenovo</td>\n",
       "      <td>Yoga 900-13ISK</td>\n",
       "      <td>2 in 1 Convertible</td>\n",
       "      <td>13.3</td>\n",
       "      <td>IPS Panel Quad HD+ / Touchscreen 3200x1800</td>\n",
       "      <td>Intel</td>\n",
       "      <td>Core i7 6500U</td>\n",
       "      <td>2.5</td>\n",
       "      <td>16</td>\n",
       "      <td>512GB SSD</td>\n",
       "      <td>Intel</td>\n",
       "      <td>HD Graphics 520</td>\n",
       "      <td>Windows 10</td>\n",
       "      <td>1.30</td>\n",
       "      <td>1499.0</td>\n",
       "      <td>Intel Core i7 6500U</td>\n",
       "      <td>Intel HD Graphics 520</td>\n",
       "      <td>SSD</td>\n",
       "    </tr>\n",
       "    <tr>\n",
       "      <th>1272</th>\n",
       "      <td>Lenovo</td>\n",
       "      <td>IdeaPad 100S-14IBR</td>\n",
       "      <td>Notebook</td>\n",
       "      <td>14.0</td>\n",
       "      <td>1366x768</td>\n",
       "      <td>Intel</td>\n",
       "      <td>Celeron Dual Core N3050</td>\n",
       "      <td>1.6</td>\n",
       "      <td>2</td>\n",
       "      <td>64GB Flash Storage</td>\n",
       "      <td>Intel</td>\n",
       "      <td>HD Graphics</td>\n",
       "      <td>Windows 10</td>\n",
       "      <td>1.50</td>\n",
       "      <td>229.0</td>\n",
       "      <td>Intel Celeron Dual Core N3050</td>\n",
       "      <td>Intel HD Graphics</td>\n",
       "      <td>Flash Storage</td>\n",
       "    </tr>\n",
       "    <tr>\n",
       "      <th>1273</th>\n",
       "      <td>HP</td>\n",
       "      <td>15-AC110nv (i7-6500U/6GB/1TB/Radeon</td>\n",
       "      <td>Notebook</td>\n",
       "      <td>15.6</td>\n",
       "      <td>1366x768</td>\n",
       "      <td>Intel</td>\n",
       "      <td>Core i7 6500U</td>\n",
       "      <td>2.5</td>\n",
       "      <td>6</td>\n",
       "      <td>1TB HDD</td>\n",
       "      <td>AMD</td>\n",
       "      <td>Radeon R5 M330</td>\n",
       "      <td>Windows 10</td>\n",
       "      <td>2.19</td>\n",
       "      <td>764.0</td>\n",
       "      <td>Intel Core i7 6500U</td>\n",
       "      <td>AMD Radeon R5 M330</td>\n",
       "      <td>HDD</td>\n",
       "    </tr>\n",
       "    <tr>\n",
       "      <th>1274</th>\n",
       "      <td>Asus</td>\n",
       "      <td>X553SA-XX031T (N3050/4GB/500GB/W10)</td>\n",
       "      <td>Notebook</td>\n",
       "      <td>15.6</td>\n",
       "      <td>1366x768</td>\n",
       "      <td>Intel</td>\n",
       "      <td>Celeron Dual Core N3050</td>\n",
       "      <td>1.6</td>\n",
       "      <td>4</td>\n",
       "      <td>500GB HDD</td>\n",
       "      <td>Intel</td>\n",
       "      <td>HD Graphics</td>\n",
       "      <td>Windows 10</td>\n",
       "      <td>2.20</td>\n",
       "      <td>369.0</td>\n",
       "      <td>Intel Celeron Dual Core N3050</td>\n",
       "      <td>Intel HD Graphics</td>\n",
       "      <td>HDD</td>\n",
       "    </tr>\n",
       "  </tbody>\n",
       "</table>\n",
       "</div>"
      ],
      "text/plain": [
       "     Company                              Product            TypeName  Inches  \\\n",
       "1270  Lenovo                       Yoga 500-14ISK  2 in 1 Convertible    14.0   \n",
       "1271  Lenovo                       Yoga 900-13ISK  2 in 1 Convertible    13.3   \n",
       "1272  Lenovo                   IdeaPad 100S-14IBR            Notebook    14.0   \n",
       "1273      HP  15-AC110nv (i7-6500U/6GB/1TB/Radeon            Notebook    15.6   \n",
       "1274    Asus  X553SA-XX031T (N3050/4GB/500GB/W10)            Notebook    15.6   \n",
       "\n",
       "                                ScreenResolution CPU_Company  \\\n",
       "1270   IPS Panel Full HD / Touchscreen 1920x1080       Intel   \n",
       "1271  IPS Panel Quad HD+ / Touchscreen 3200x1800       Intel   \n",
       "1272                                    1366x768       Intel   \n",
       "1273                                    1366x768       Intel   \n",
       "1274                                    1366x768       Intel   \n",
       "\n",
       "                     CPU_Type  CPU_Frequency (GHz)  RAM (GB)  \\\n",
       "1270            Core i7 6500U                  2.5         4   \n",
       "1271            Core i7 6500U                  2.5        16   \n",
       "1272  Celeron Dual Core N3050                  1.6         2   \n",
       "1273            Core i7 6500U                  2.5         6   \n",
       "1274  Celeron Dual Core N3050                  1.6         4   \n",
       "\n",
       "                  Memory GPU_Company         GPU_Type       OpSys  \\\n",
       "1270           128GB SSD       Intel  HD Graphics 520  Windows 10   \n",
       "1271           512GB SSD       Intel  HD Graphics 520  Windows 10   \n",
       "1272  64GB Flash Storage       Intel      HD Graphics  Windows 10   \n",
       "1273             1TB HDD         AMD   Radeon R5 M330  Windows 10   \n",
       "1274           500GB HDD       Intel      HD Graphics  Windows 10   \n",
       "\n",
       "      Weight (kg)  Price (Euro)                            CPU  \\\n",
       "1270         1.80         638.0            Intel Core i7 6500U   \n",
       "1271         1.30        1499.0            Intel Core i7 6500U   \n",
       "1272         1.50         229.0  Intel Celeron Dual Core N3050   \n",
       "1273         2.19         764.0            Intel Core i7 6500U   \n",
       "1274         2.20         369.0  Intel Celeron Dual Core N3050   \n",
       "\n",
       "                        GPU    Memory_Type  \n",
       "1270  Intel HD Graphics 520            SSD  \n",
       "1271  Intel HD Graphics 520            SSD  \n",
       "1272      Intel HD Graphics  Flash Storage  \n",
       "1273     AMD Radeon R5 M330            HDD  \n",
       "1274      Intel HD Graphics            HDD  "
      ]
     },
     "execution_count": 50,
     "metadata": {},
     "output_type": "execute_result"
    }
   ],
   "source": [
    "data.tail(5)"
   ]
  },
  {
   "cell_type": "markdown",
   "metadata": {},
   "source": [
    "Based on the data above, successfully retrieved data has been successfully retrieved"
   ]
  },
  {
   "cell_type": "code",
   "execution_count": 51,
   "metadata": {},
   "outputs": [
    {
     "data": {
      "text/html": [
       "<div>\n",
       "<style scoped>\n",
       "    .dataframe tbody tr th:only-of-type {\n",
       "        vertical-align: middle;\n",
       "    }\n",
       "\n",
       "    .dataframe tbody tr th {\n",
       "        vertical-align: top;\n",
       "    }\n",
       "\n",
       "    .dataframe thead th {\n",
       "        text-align: right;\n",
       "    }\n",
       "</style>\n",
       "<table border=\"1\" class=\"dataframe\">\n",
       "  <thead>\n",
       "    <tr style=\"text-align: right;\">\n",
       "      <th></th>\n",
       "      <th>Company</th>\n",
       "      <th>Product</th>\n",
       "      <th>TypeName</th>\n",
       "      <th>Inches</th>\n",
       "      <th>ScreenResolution</th>\n",
       "      <th>CPU_Company</th>\n",
       "      <th>CPU_Type</th>\n",
       "      <th>CPU_Frequency (GHz)</th>\n",
       "      <th>RAM (GB)</th>\n",
       "      <th>Memory</th>\n",
       "      <th>GPU_Company</th>\n",
       "      <th>GPU_Type</th>\n",
       "      <th>OpSys</th>\n",
       "      <th>Weight (kg)</th>\n",
       "      <th>Price (Euro)</th>\n",
       "      <th>CPU</th>\n",
       "      <th>GPU</th>\n",
       "      <th>Memory_Type</th>\n",
       "    </tr>\n",
       "  </thead>\n",
       "  <tbody>\n",
       "    <tr>\n",
       "      <th>1270</th>\n",
       "      <td>Lenovo</td>\n",
       "      <td>Yoga 500-14ISK</td>\n",
       "      <td>2 in 1 Convertible</td>\n",
       "      <td>14.0</td>\n",
       "      <td>IPS Panel Full HD / Touchscreen 1920x1080</td>\n",
       "      <td>Intel</td>\n",
       "      <td>Core i7 6500U</td>\n",
       "      <td>2.5</td>\n",
       "      <td>4</td>\n",
       "      <td>128GB SSD</td>\n",
       "      <td>Intel</td>\n",
       "      <td>HD Graphics 520</td>\n",
       "      <td>Windows 10</td>\n",
       "      <td>1.80</td>\n",
       "      <td>638.0</td>\n",
       "      <td>Intel Core i7 6500U</td>\n",
       "      <td>Intel HD Graphics 520</td>\n",
       "      <td>SSD</td>\n",
       "    </tr>\n",
       "    <tr>\n",
       "      <th>1271</th>\n",
       "      <td>Lenovo</td>\n",
       "      <td>Yoga 900-13ISK</td>\n",
       "      <td>2 in 1 Convertible</td>\n",
       "      <td>13.3</td>\n",
       "      <td>IPS Panel Quad HD+ / Touchscreen 3200x1800</td>\n",
       "      <td>Intel</td>\n",
       "      <td>Core i7 6500U</td>\n",
       "      <td>2.5</td>\n",
       "      <td>16</td>\n",
       "      <td>512GB SSD</td>\n",
       "      <td>Intel</td>\n",
       "      <td>HD Graphics 520</td>\n",
       "      <td>Windows 10</td>\n",
       "      <td>1.30</td>\n",
       "      <td>1499.0</td>\n",
       "      <td>Intel Core i7 6500U</td>\n",
       "      <td>Intel HD Graphics 520</td>\n",
       "      <td>SSD</td>\n",
       "    </tr>\n",
       "    <tr>\n",
       "      <th>1272</th>\n",
       "      <td>Lenovo</td>\n",
       "      <td>IdeaPad 100S-14IBR</td>\n",
       "      <td>Notebook</td>\n",
       "      <td>14.0</td>\n",
       "      <td>1366x768</td>\n",
       "      <td>Intel</td>\n",
       "      <td>Celeron Dual Core N3050</td>\n",
       "      <td>1.6</td>\n",
       "      <td>2</td>\n",
       "      <td>64GB Flash Storage</td>\n",
       "      <td>Intel</td>\n",
       "      <td>HD Graphics</td>\n",
       "      <td>Windows 10</td>\n",
       "      <td>1.50</td>\n",
       "      <td>229.0</td>\n",
       "      <td>Intel Celeron Dual Core N3050</td>\n",
       "      <td>Intel HD Graphics</td>\n",
       "      <td>Flash Storage</td>\n",
       "    </tr>\n",
       "    <tr>\n",
       "      <th>1273</th>\n",
       "      <td>HP</td>\n",
       "      <td>15-AC110nv (i7-6500U/6GB/1TB/Radeon</td>\n",
       "      <td>Notebook</td>\n",
       "      <td>15.6</td>\n",
       "      <td>1366x768</td>\n",
       "      <td>Intel</td>\n",
       "      <td>Core i7 6500U</td>\n",
       "      <td>2.5</td>\n",
       "      <td>6</td>\n",
       "      <td>1TB HDD</td>\n",
       "      <td>AMD</td>\n",
       "      <td>Radeon R5 M330</td>\n",
       "      <td>Windows 10</td>\n",
       "      <td>2.19</td>\n",
       "      <td>764.0</td>\n",
       "      <td>Intel Core i7 6500U</td>\n",
       "      <td>AMD Radeon R5 M330</td>\n",
       "      <td>HDD</td>\n",
       "    </tr>\n",
       "    <tr>\n",
       "      <th>1274</th>\n",
       "      <td>Asus</td>\n",
       "      <td>X553SA-XX031T (N3050/4GB/500GB/W10)</td>\n",
       "      <td>Notebook</td>\n",
       "      <td>15.6</td>\n",
       "      <td>1366x768</td>\n",
       "      <td>Intel</td>\n",
       "      <td>Celeron Dual Core N3050</td>\n",
       "      <td>1.6</td>\n",
       "      <td>4</td>\n",
       "      <td>500GB HDD</td>\n",
       "      <td>Intel</td>\n",
       "      <td>HD Graphics</td>\n",
       "      <td>Windows 10</td>\n",
       "      <td>2.20</td>\n",
       "      <td>369.0</td>\n",
       "      <td>Intel Celeron Dual Core N3050</td>\n",
       "      <td>Intel HD Graphics</td>\n",
       "      <td>HDD</td>\n",
       "    </tr>\n",
       "  </tbody>\n",
       "</table>\n",
       "</div>"
      ],
      "text/plain": [
       "     Company                              Product            TypeName  Inches  \\\n",
       "1270  Lenovo                       Yoga 500-14ISK  2 in 1 Convertible    14.0   \n",
       "1271  Lenovo                       Yoga 900-13ISK  2 in 1 Convertible    13.3   \n",
       "1272  Lenovo                   IdeaPad 100S-14IBR            Notebook    14.0   \n",
       "1273      HP  15-AC110nv (i7-6500U/6GB/1TB/Radeon            Notebook    15.6   \n",
       "1274    Asus  X553SA-XX031T (N3050/4GB/500GB/W10)            Notebook    15.6   \n",
       "\n",
       "                                ScreenResolution CPU_Company  \\\n",
       "1270   IPS Panel Full HD / Touchscreen 1920x1080       Intel   \n",
       "1271  IPS Panel Quad HD+ / Touchscreen 3200x1800       Intel   \n",
       "1272                                    1366x768       Intel   \n",
       "1273                                    1366x768       Intel   \n",
       "1274                                    1366x768       Intel   \n",
       "\n",
       "                     CPU_Type  CPU_Frequency (GHz)  RAM (GB)  \\\n",
       "1270            Core i7 6500U                  2.5         4   \n",
       "1271            Core i7 6500U                  2.5        16   \n",
       "1272  Celeron Dual Core N3050                  1.6         2   \n",
       "1273            Core i7 6500U                  2.5         6   \n",
       "1274  Celeron Dual Core N3050                  1.6         4   \n",
       "\n",
       "                  Memory GPU_Company         GPU_Type       OpSys  \\\n",
       "1270           128GB SSD       Intel  HD Graphics 520  Windows 10   \n",
       "1271           512GB SSD       Intel  HD Graphics 520  Windows 10   \n",
       "1272  64GB Flash Storage       Intel      HD Graphics  Windows 10   \n",
       "1273             1TB HDD         AMD   Radeon R5 M330  Windows 10   \n",
       "1274           500GB HDD       Intel      HD Graphics  Windows 10   \n",
       "\n",
       "      Weight (kg)  Price (Euro)                            CPU  \\\n",
       "1270         1.80         638.0            Intel Core i7 6500U   \n",
       "1271         1.30        1499.0            Intel Core i7 6500U   \n",
       "1272         1.50         229.0  Intel Celeron Dual Core N3050   \n",
       "1273         2.19         764.0            Intel Core i7 6500U   \n",
       "1274         2.20         369.0  Intel Celeron Dual Core N3050   \n",
       "\n",
       "                        GPU    Memory_Type  \n",
       "1270  Intel HD Graphics 520            SSD  \n",
       "1271  Intel HD Graphics 520            SSD  \n",
       "1272      Intel HD Graphics  Flash Storage  \n",
       "1273     AMD Radeon R5 M330            HDD  \n",
       "1274      Intel HD Graphics            HDD  "
      ]
     },
     "execution_count": 51,
     "metadata": {},
     "output_type": "execute_result"
    }
   ],
   "source": [
    "data.tail(5)"
   ]
  },
  {
   "cell_type": "code",
   "execution_count": 52,
   "metadata": {},
   "outputs": [],
   "source": [
    "# Menghapus kolom yang tidak dibutuhkan\n",
    "data = data.drop(['GPU_Company', 'CPU_Company', 'CPU_Type', 'GPU_Type', 'Price (Euro)'], axis=1)"
   ]
  },
  {
   "cell_type": "code",
   "execution_count": 57,
   "metadata": {},
   "outputs": [
    {
     "data": {
      "text/plain": [
       "Index(['Company', 'Product', 'TypeName', 'Inches', 'ScreenResolution',\n",
       "       'CPU_Frequency (GHz)', 'RAM (GB)', 'Memory', 'OpSys', 'Weight (kg)',\n",
       "       'Price (Euro)', 'CPU', 'GPU', 'Memory_Type', 'GPU_Type'],\n",
       "      dtype='object')"
      ]
     },
     "execution_count": 57,
     "metadata": {},
     "output_type": "execute_result"
    }
   ],
   "source": [
    "data.columns"
   ]
  },
  {
   "cell_type": "code",
   "execution_count": 58,
   "metadata": {},
   "outputs": [],
   "source": [
    "data.rename(columns={'Price (Euro)': 'Price'}, inplace=True)"
   ]
  },
  {
   "cell_type": "code",
   "execution_count": 59,
   "metadata": {},
   "outputs": [],
   "source": [
    "data['GPU_Type'] = 'Integrated'  # Inisialisasi tabel 'GPU_Type' dengan 'Integrated' sebagai default value\n",
    "\n",
    "# Menggunakan DataFrame.loc[] untuk mengatur value berdasarkan kondisi pada kolom 'GPU'\n",
    "data.loc[data['GPU'].str.contains('Geforce'), 'GPU_Type'] = 'Discrete'\n",
    "data.loc[data['GPU'].str.contains('RX'), 'GPU_Type'] = 'Discrete'"
   ]
  },
  {
   "cell_type": "code",
   "execution_count": 60,
   "metadata": {},
   "outputs": [
    {
     "data": {
      "text/plain": [
       "array(['Integrated', 'Discrete'], dtype=object)"
      ]
     },
     "execution_count": 60,
     "metadata": {},
     "output_type": "execute_result"
    }
   ],
   "source": [
    "# Kolom berhasil dibuat, dan value berhasil diatur berdasarkan kondisi pada kolom 'GPU'\n",
    "data['GPU_Type'].unique()"
   ]
  },
  {
   "cell_type": "code",
   "execution_count": 61,
   "metadata": {},
   "outputs": [],
   "source": [
    "# Mengubah tipe data pada kolom Price menjadi integer\n",
    "data.Price = data.Price.astype(int)"
   ]
  },
  {
   "cell_type": "markdown",
   "metadata": {},
   "source": [
    "Provide the value of the Memory_Type column with the following conditions:\n",
    "1. SSD = 3.0\n",
    "2. Hybrid = 2.5\n",
    "3. Flash Storage = 2.0\n",
    "4. HDD = 1.0"
   ]
  },
  {
   "cell_type": "code",
   "execution_count": 62,
   "metadata": {},
   "outputs": [
    {
     "data": {
      "text/html": [
       "<div>\n",
       "<style scoped>\n",
       "    .dataframe tbody tr th:only-of-type {\n",
       "        vertical-align: middle;\n",
       "    }\n",
       "\n",
       "    .dataframe tbody tr th {\n",
       "        vertical-align: top;\n",
       "    }\n",
       "\n",
       "    .dataframe thead th {\n",
       "        text-align: right;\n",
       "    }\n",
       "</style>\n",
       "<table border=\"1\" class=\"dataframe\">\n",
       "  <thead>\n",
       "    <tr style=\"text-align: right;\">\n",
       "      <th></th>\n",
       "      <th>Memory_Type</th>\n",
       "      <th>Memory_Type_Score</th>\n",
       "    </tr>\n",
       "  </thead>\n",
       "  <tbody>\n",
       "    <tr>\n",
       "      <th>0</th>\n",
       "      <td>SSD</td>\n",
       "      <td>3.0</td>\n",
       "    </tr>\n",
       "    <tr>\n",
       "      <th>1</th>\n",
       "      <td>Flash Storage</td>\n",
       "      <td>2.0</td>\n",
       "    </tr>\n",
       "    <tr>\n",
       "      <th>5</th>\n",
       "      <td>HDD</td>\n",
       "      <td>1.0</td>\n",
       "    </tr>\n",
       "    <tr>\n",
       "      <th>21</th>\n",
       "      <td>Hybrid</td>\n",
       "      <td>2.5</td>\n",
       "    </tr>\n",
       "  </tbody>\n",
       "</table>\n",
       "</div>"
      ],
      "text/plain": [
       "      Memory_Type  Memory_Type_Score\n",
       "0             SSD                3.0\n",
       "1   Flash Storage                2.0\n",
       "5             HDD                1.0\n",
       "21         Hybrid                2.5"
      ]
     },
     "execution_count": 62,
     "metadata": {},
     "output_type": "execute_result"
    }
   ],
   "source": [
    "memory_type_scores_updated = {\n",
    "    'SSD': 3,                # Highest score for SSD\n",
    "    'Hybrid': 2.5,           # Mid-high score for Hybrid\n",
    "    'Flash Storage': 2,      # Medium score for Flash Storage\n",
    "    'HDD': 1                 # Lowest score for HDD\n",
    "}\n",
    "\n",
    "data['Memory_Type'] = data['Memory_Type'].replace('SSD + HDD', 'Hybrid')\n",
    "\n",
    "# Reapply the scoring system\n",
    "data['Memory_Type_Score'] = data['Memory_Type'].map(memory_type_scores_updated)\n",
    "\n",
    "# Memastikan data sudah ter-update\n",
    "data[['Memory_Type', 'Memory_Type_Score']].drop_duplicates()"
   ]
  },
  {
   "cell_type": "markdown",
   "metadata": {},
   "source": [
    "Based on the data above, the addition of the Memory_Type_Score column was successfully added"
   ]
  },
  {
   "cell_type": "code",
   "execution_count": 63,
   "metadata": {},
   "outputs": [
    {
     "data": {
      "text/html": [
       "<div>\n",
       "<style scoped>\n",
       "    .dataframe tbody tr th:only-of-type {\n",
       "        vertical-align: middle;\n",
       "    }\n",
       "\n",
       "    .dataframe tbody tr th {\n",
       "        vertical-align: top;\n",
       "    }\n",
       "\n",
       "    .dataframe thead th {\n",
       "        text-align: right;\n",
       "    }\n",
       "</style>\n",
       "<table border=\"1\" class=\"dataframe\">\n",
       "  <thead>\n",
       "    <tr style=\"text-align: right;\">\n",
       "      <th></th>\n",
       "      <th>GPU_Type</th>\n",
       "      <th>GPU_Type_Score</th>\n",
       "    </tr>\n",
       "  </thead>\n",
       "  <tbody>\n",
       "    <tr>\n",
       "      <th>0</th>\n",
       "      <td>Integrated</td>\n",
       "      <td>1</td>\n",
       "    </tr>\n",
       "    <tr>\n",
       "      <th>47</th>\n",
       "      <td>Discrete</td>\n",
       "      <td>2</td>\n",
       "    </tr>\n",
       "  </tbody>\n",
       "</table>\n",
       "</div>"
      ],
      "text/plain": [
       "      GPU_Type  GPU_Type_Score\n",
       "0   Integrated               1\n",
       "47    Discrete               2"
      ]
     },
     "execution_count": 63,
     "metadata": {},
     "output_type": "execute_result"
    }
   ],
   "source": [
    "gpu_type_scores = {\n",
    "    'Discrete': 2,  # Higher score for Discrete GPUs\n",
    "    'Integrated': 1  # Lower score for Integrated GPUs\n",
    "}\n",
    "\n",
    "# Map scores to the dataset and create a new column\n",
    "data['GPU_Type_Score'] = data['GPU_Type'].map(gpu_type_scores)\n",
    "\n",
    "# Memastikan data sudah ter-update\n",
    "data[['GPU_Type', 'GPU_Type_Score']].drop_duplicates()"
   ]
  },
  {
   "cell_type": "markdown",
   "metadata": {},
   "source": [
    "Based on the data above, the addition of the GPU_Type_Score column was successfully added"
   ]
  },
  {
   "cell_type": "code",
   "execution_count": 64,
   "metadata": {},
   "outputs": [
    {
     "name": "stdout",
     "output_type": "stream",
     "text": [
      "<class 'pandas.core.frame.DataFrame'>\n",
      "RangeIndex: 1275 entries, 0 to 1274\n",
      "Data columns (total 17 columns):\n",
      " #   Column               Non-Null Count  Dtype  \n",
      "---  ------               --------------  -----  \n",
      " 0   Company              1275 non-null   object \n",
      " 1   Product              1275 non-null   object \n",
      " 2   TypeName             1275 non-null   object \n",
      " 3   Inches               1275 non-null   float64\n",
      " 4   ScreenResolution     1275 non-null   object \n",
      " 5   CPU_Frequency (GHz)  1275 non-null   float64\n",
      " 6   RAM (GB)             1275 non-null   int64  \n",
      " 7   Memory               1275 non-null   object \n",
      " 8   OpSys                1275 non-null   object \n",
      " 9   Weight (kg)          1275 non-null   float64\n",
      " 10  Price                1275 non-null   int64  \n",
      " 11  CPU                  1275 non-null   object \n",
      " 12  GPU                  1275 non-null   object \n",
      " 13  Memory_Type          1275 non-null   object \n",
      " 14  GPU_Type             1275 non-null   object \n",
      " 15  Memory_Type_Score    1275 non-null   float64\n",
      " 16  GPU_Type_Score       1275 non-null   int64  \n",
      "dtypes: float64(4), int64(3), object(10)\n",
      "memory usage: 169.5+ KB\n"
     ]
    },
    {
     "data": {
      "text/html": [
       "<div>\n",
       "<style scoped>\n",
       "    .dataframe tbody tr th:only-of-type {\n",
       "        vertical-align: middle;\n",
       "    }\n",
       "\n",
       "    .dataframe tbody tr th {\n",
       "        vertical-align: top;\n",
       "    }\n",
       "\n",
       "    .dataframe thead th {\n",
       "        text-align: right;\n",
       "    }\n",
       "</style>\n",
       "<table border=\"1\" class=\"dataframe\">\n",
       "  <thead>\n",
       "    <tr style=\"text-align: right;\">\n",
       "      <th></th>\n",
       "      <th>Inches</th>\n",
       "      <th>CPU_Frequency (GHz)</th>\n",
       "      <th>RAM (GB)</th>\n",
       "      <th>Weight (kg)</th>\n",
       "      <th>Price</th>\n",
       "      <th>Memory_Type_Score</th>\n",
       "      <th>GPU_Type_Score</th>\n",
       "    </tr>\n",
       "  </thead>\n",
       "  <tbody>\n",
       "    <tr>\n",
       "      <th>count</th>\n",
       "      <td>1275.00000</td>\n",
       "      <td>1275.00000</td>\n",
       "      <td>1275.00000</td>\n",
       "      <td>1275.00000</td>\n",
       "      <td>1275.00000</td>\n",
       "      <td>1275.00000</td>\n",
       "      <td>1275.00000</td>\n",
       "    </tr>\n",
       "    <tr>\n",
       "      <th>mean</th>\n",
       "      <td>15.02290</td>\n",
       "      <td>2.30298</td>\n",
       "      <td>8.44078</td>\n",
       "      <td>2.04053</td>\n",
       "      <td>1134.84863</td>\n",
       "      <td>2.29882</td>\n",
       "      <td>1.00941</td>\n",
       "    </tr>\n",
       "    <tr>\n",
       "      <th>std</th>\n",
       "      <td>1.42947</td>\n",
       "      <td>0.50385</td>\n",
       "      <td>5.09781</td>\n",
       "      <td>0.66920</td>\n",
       "      <td>700.76215</td>\n",
       "      <td>0.85675</td>\n",
       "      <td>0.09659</td>\n",
       "    </tr>\n",
       "    <tr>\n",
       "      <th>min</th>\n",
       "      <td>10.10000</td>\n",
       "      <td>0.90000</td>\n",
       "      <td>2.00000</td>\n",
       "      <td>0.69000</td>\n",
       "      <td>174.00000</td>\n",
       "      <td>1.00000</td>\n",
       "      <td>1.00000</td>\n",
       "    </tr>\n",
       "    <tr>\n",
       "      <th>25%</th>\n",
       "      <td>14.00000</td>\n",
       "      <td>2.00000</td>\n",
       "      <td>4.00000</td>\n",
       "      <td>1.50000</td>\n",
       "      <td>609.00000</td>\n",
       "      <td>1.00000</td>\n",
       "      <td>1.00000</td>\n",
       "    </tr>\n",
       "    <tr>\n",
       "      <th>50%</th>\n",
       "      <td>15.60000</td>\n",
       "      <td>2.50000</td>\n",
       "      <td>8.00000</td>\n",
       "      <td>2.04000</td>\n",
       "      <td>989.00000</td>\n",
       "      <td>2.50000</td>\n",
       "      <td>1.00000</td>\n",
       "    </tr>\n",
       "    <tr>\n",
       "      <th>75%</th>\n",
       "      <td>15.60000</td>\n",
       "      <td>2.70000</td>\n",
       "      <td>8.00000</td>\n",
       "      <td>2.31000</td>\n",
       "      <td>1496.50000</td>\n",
       "      <td>3.00000</td>\n",
       "      <td>1.00000</td>\n",
       "    </tr>\n",
       "    <tr>\n",
       "      <th>max</th>\n",
       "      <td>18.40000</td>\n",
       "      <td>3.60000</td>\n",
       "      <td>64.00000</td>\n",
       "      <td>4.70000</td>\n",
       "      <td>6099.00000</td>\n",
       "      <td>3.00000</td>\n",
       "      <td>2.00000</td>\n",
       "    </tr>\n",
       "  </tbody>\n",
       "</table>\n",
       "</div>"
      ],
      "text/plain": [
       "           Inches CPU_Frequency (GHz)    RAM (GB) Weight (kg)       Price  \\\n",
       "count  1275.00000          1275.00000  1275.00000  1275.00000  1275.00000   \n",
       "mean     15.02290             2.30298     8.44078     2.04053  1134.84863   \n",
       "std       1.42947             0.50385     5.09781     0.66920   700.76215   \n",
       "min      10.10000             0.90000     2.00000     0.69000   174.00000   \n",
       "25%      14.00000             2.00000     4.00000     1.50000   609.00000   \n",
       "50%      15.60000             2.50000     8.00000     2.04000   989.00000   \n",
       "75%      15.60000             2.70000     8.00000     2.31000  1496.50000   \n",
       "max      18.40000             3.60000    64.00000     4.70000  6099.00000   \n",
       "\n",
       "      Memory_Type_Score GPU_Type_Score  \n",
       "count        1275.00000     1275.00000  \n",
       "mean            2.29882        1.00941  \n",
       "std             0.85675        0.09659  \n",
       "min             1.00000        1.00000  \n",
       "25%             1.00000        1.00000  \n",
       "50%             2.50000        1.00000  \n",
       "75%             3.00000        1.00000  \n",
       "max             3.00000        2.00000  "
      ]
     },
     "execution_count": 64,
     "metadata": {},
     "output_type": "execute_result"
    }
   ],
   "source": [
    "data.info()\n",
    "data.describe().apply(lambda x: x.apply('{0:.5f}'.format))"
   ]
  },
  {
   "cell_type": "markdown",
   "metadata": {},
   "source": [
    "Based on the data above, the columns that will be used for the data analysis process are as follows:\n",
    "| Kolom | Description | Data Type | Example Value|\n",
    "|------| ------| ------| ------|\n",
    "| Company | Laptop brand | String | ['Apple', 'HP', 'Acer']\n",
    "| Product | Name of laptop | String | ['Macbook Pro', '250 G6', 'Aspire 3']\n",
    "| TypeName | Laptop type | String | ['Ultrabook', 'Notebook', 'Netbook']\n",
    "| Inches | Laptop size (Inches) | Float | ['13.3', '15.6', '15.4']\n",
    "| ScreenResolution | Laptop screen resolution | String | ['IPS Panel Retina Display 2560x1600', 'Full HD 1920x1080', '1366x768']\n",
    "| CPU_Frequency (GHz) | CPU frequency of the laptop (GHz) | Float | ['2.3', '2.5', '3.0']\n",
    "| RAM (GB) | Amount of RAM (GB) | Integer | ['8', '16', '32']\n",
    "| OpSys | Laptop Operating System | String | ['macOS', 'No OS', 'Windows 10']\n",
    "| Weight (kg) | Laptop weight (Kg) | Float | ['1.37', '1.86', '2.10']\n",
    "| CPU | CPU laptop | String | ['Intel Iris Plus Graphics 640', 'Intel HD Graphics 620', 'AMD A9-Series 9420']\n",
    "| GPU | GPU laptop | String | ['Intel Iris Plus Graphics 640', 'Intel HD Graphics 620', 'AMD Radeon R5']\n",
    "| Memory_Type | Memory Type | String | ['SSD', 'Flash Storage', 'HDD']\n",
    "| Price | Laptop price (Euros) | Integer | ['174', '989', '6099']\n",
    "| GPU_Type | GPU Type | String | ['Discrete', 'Integrated']\n",
    "| Memory_Type_Score | Memory type score | Float | ['3.0', '2.5', '1.0']\n",
    "| GPU_Type_Score | GPU type score | Float | ['2.0', '1.0']"
   ]
  },
  {
   "cell_type": "code",
   "execution_count": 65,
   "metadata": {},
   "outputs": [],
   "source": [
    "# Eksport dataframe data dengan jenis file .csv\n",
    "data.to_csv('laptop_price_cleaned.csv', index=False)"
   ]
  },
  {
   "cell_type": "markdown",
   "metadata": {},
   "source": [
    "# Analysis and Calculation"
   ]
  },
  {
   "cell_type": "markdown",
   "metadata": {},
   "source": [
    "This section contains the process of analysis, explanation, calculation of descriptive and inferential statistics, and creation of data visualisations. For data visualisation, it is mandatory to provide insight in each visualisation."
   ]
  },
  {
   "cell_type": "markdown",
   "metadata": {},
   "source": [
    "### Descriptive Statistics Calculation Analysis"
   ]
  },
  {
   "cell_type": "markdown",
   "metadata": {},
   "source": [
    "    Case: How to set a budget for buyers?"
   ]
  },
  {
   "cell_type": "markdown",
   "metadata": {},
   "source": [
    "Determine the budget based on Interquartile Range (IQR) data"
   ]
  },
  {
   "cell_type": "code",
   "execution_count": 66,
   "metadata": {},
   "outputs": [
    {
     "name": "stdout",
     "output_type": "stream",
     "text": [
      "Q1: 609.0\n",
      "Q2: 989.0\n",
      "Q3: 1496.5\n",
      "Interquartile Range (IQR): 887.5\n"
     ]
    }
   ],
   "source": [
    "q1 = data['Price'].quantile(0.25)\n",
    "q2 = data['Price'].quantile(0.5)\n",
    "q3 = data['Price'].quantile(0.75)\n",
    "\n",
    "iqr = q3 - q1\n",
    "print('Q1:',q1)\n",
    "print('Q2:',q2)\n",
    "print('Q3:',q3)\n",
    "print('Interquartile Range (IQR):',iqr)"
   ]
  },
  {
   "cell_type": "code",
   "execution_count": 67,
   "metadata": {},
   "outputs": [
    {
     "data": {
      "image/png": "[encoded data removed]",
      "text/plain": [
       "<Figure size 600x400 with 1 Axes>"
      ]
     },
     "metadata": {},
     "output_type": "display_data"
    }
   ],
   "source": [
    "plt.figure(figsize=(6, 4))\n",
    "plt.boxplot(data['Price'], vert=False, patch_artist=True)\n",
    "\n",
    "plt.annotate(f'Q1 = {q1}', xy=(q1, 1.06), xytext=(q1, 1.2), arrowprops=dict(facecolor='black', arrowstyle='->'))\n",
    "plt.annotate(f'Q2 = {q2}', xy=(q2, 1.06), xytext=(q2, 1.3), arrowprops=dict(facecolor='black', arrowstyle='->'))\n",
    "plt.annotate(f'Q3 = {q3}', xy=(q3, 1.06), xytext=(q3, 1.2), arrowprops=dict(facecolor='black', arrowstyle='->'))\n",
    "plt.annotate(f'IQR = {iqr}', xy=((q1+q3)/2, 0.85), ha='center')\n",
    "\n",
    "plt.axvline(q1, linestyle='--', color='gray', label='Q1')\n",
    "plt.axvline(q3, linestyle='--', color='gray', label='Q3')\n",
    "plt.axvspan(q1, q3, alpha=0.2, color='gray', label='IQR')\n",
    "\n",
    "plt.xlabel('Values')\n",
    "plt.title('Boxplot of Price')\n",
    "\n",
    "plt.show()"
   ]
  },
  {
   "cell_type": "markdown",
   "metadata": {},
   "source": [
    "Based on the data above, insight can be drawn, assuming:\n",
    "1. Low-Budget is a price with a value less than Q1 (609)\n",
    "2. Mid-Budget is the price with a value between Q1 and Q3 (609 - 1496.5)\n",
    "3. High-Budget is a price with a value greater than Q3 (1496.5)"
   ]
  },
  {
   "cell_type": "markdown",
   "metadata": {},
   "source": [
    "    Case: How to determine the optimal laptop specifications within a certain budget range?"
   ]
  },
  {
   "cell_type": "code",
   "execution_count": 68,
   "metadata": {},
   "outputs": [],
   "source": [
    "# menambahkan dataset baru dengan menambahkan kolom price_range dari 'data'\n",
    "def budget_range(price):\n",
    "    if price < q1:\n",
    "        return \"Low Budget\"\n",
    "    elif price <= q3:\n",
    "        return \"Mid Budget\"\n",
    "    else:\n",
    "        return \"High Budget\"\n",
    "    \n",
    "data['Price_Range'] = data['Price'].apply(budget_range)\n",
    "\n",
    "data.to_csv('laptop_price_range.csv', index=False)"
   ]
  },
  {
   "cell_type": "code",
   "execution_count": 69,
   "metadata": {},
   "outputs": [
    {
     "data": {
      "text/plain": [
       "(             Price  CPU_Frequency (GHz)     RAM (GB)  Memory_Type_Score  \\\n",
       " count  1275.000000          1275.000000  1275.000000        1275.000000   \n",
       " mean   1134.848627             2.302980     8.440784           2.298824   \n",
       " std     700.762148             0.503846     5.097809           0.856753   \n",
       " min     174.000000             0.900000     2.000000           1.000000   \n",
       " 25%     609.000000             2.000000     4.000000           1.000000   \n",
       " 50%     989.000000             2.500000     8.000000           2.500000   \n",
       " 75%    1496.500000             2.700000     8.000000           3.000000   \n",
       " max    6099.000000             3.600000    64.000000           3.000000   \n",
       " \n",
       "        GPU_Type_Score  \n",
       " count     1275.000000  \n",
       " mean         1.009412  \n",
       " std          0.096595  \n",
       " min          1.000000  \n",
       " 25%          1.000000  \n",
       " 50%          1.000000  \n",
       " 75%          1.000000  \n",
       " max          2.000000  ,\n",
       "                    Price  CPU_Frequency (GHz)   RAM (GB)  Memory_Type_Score  \\\n",
       " Price_Range                                                                   \n",
       " High Budget  2103.652038             2.565204  13.216301           2.778997   \n",
       " Low Budget    428.723270             1.975031   4.622642           1.668239   \n",
       " Mid Budget   1002.402821             2.335329   7.956113           2.373041   \n",
       " \n",
       "              GPU_Type_Score  \n",
       " Price_Range                  \n",
       " High Budget        1.012539  \n",
       " Low Budget         1.003145  \n",
       " Mid Budget         1.010972  )"
      ]
     },
     "execution_count": 69,
     "metadata": {},
     "output_type": "execute_result"
    }
   ],
   "source": [
    "# Descriptive statistics for numerical columns\n",
    "descriptive_stats = data[['Price', 'CPU_Frequency (GHz)', 'RAM (GB)', 'Memory_Type_Score', 'GPU_Type_Score']].describe()\n",
    "\n",
    "# Mengelompokkan data berdasarkan Price_Range, dengan menentukan mean dari spesifikasi laptop ('CPU_Frequency (GHz)', 'RAM (GB)', 'Memory_Type_Score', 'GPU_Type_Score')\n",
    "price_range_stats = data.groupby('Price_Range')[\n",
    "    ['Price', 'CPU_Frequency (GHz)', 'RAM (GB)', 'Memory_Type_Score', 'GPU_Type_Score']\n",
    "].mean()\n",
    "\n",
    "descriptive_stats, price_range_stats"
   ]
  },
  {
   "cell_type": "markdown",
   "metadata": {},
   "source": [
    "Based on the data above, it can be concluded that:\n",
    "General Statistics:\n",
    "1. Prices have:\n",
    " - Average: 1134.85\n",
    " - Standard deviation: 700.76\n",
    " - Minimum: 174\n",
    " - Maximum: 6099 \n",
    "2. Key specifications (based on the dataset):\n",
    "    1. CPU_Frequency (GHz):\n",
    "    - Average: 2.3GHz\n",
    "    - Miminum: 0.9GHZ\n",
    "    - Maximum: 3.6GHz\n",
    "    2. RAM (GB):\n",
    "    - Average: 8.4GB\n",
    "    - Miminum: 2GB\n",
    "    - Maximum: 64GB\n",
    "    3. Memory_Type_Score:\n",
    "    - Average: 2.3\n",
    "    4. GPU_Type_Score:\n",
    "    - Almost all laptops have a score of 1 (Integrated GPU), with a few reaching a score of 2 (Discrete GPU)"
   ]
  },
  {
   "cell_type": "markdown",
   "metadata": {},
   "source": [
    "Statistics by Price Range:<br>\n",
    "High Budget:\n",
    "- Average price: 2103.65\n",
    "- CPU_Frequency: 2.57 GHz\n",
    "- RAM: 13.22 GB\n",
    "- Memory_Type_Score: 2.78\n",
    "\n",
    "Mid Budget:\n",
    "- Average Price: 1002.40\n",
    "- CPU_Frequency: 2.33 GHz\n",
    "- RAM: 7.96 GB\n",
    "- Memory_Type_Score: 2.37\n",
    "\n",
    "Low Budget:\n",
    "- Average Price: 428.72\n",
    "- CPU_Frequency: 1.98 GHz\n",
    "- RAM: 4.62 GB\n",
    "- Memory_Type_Score: 1.67"
   ]
  },
  {
   "cell_type": "markdown",
   "metadata": {},
   "source": [
    "### Analysis of Inferential Statistical Calculations"
   ]
  },
  {
   "cell_type": "markdown",
   "metadata": {},
   "source": [
    "H0: There is no significant difference between prices by Company<br>\n",
    "H1: There is a significant difference between prices based on Company"
   ]
  },
  {
   "cell_type": "code",
   "execution_count": 70,
   "metadata": {},
   "outputs": [
    {
     "data": {
      "text/plain": [
       "19"
      ]
     },
     "execution_count": 70,
     "metadata": {},
     "output_type": "execute_result"
    }
   ],
   "source": [
    "data['Company'].nunique()"
   ]
  },
  {
   "cell_type": "code",
   "execution_count": 71,
   "metadata": {},
   "outputs": [
    {
     "name": "stdout",
     "output_type": "stream",
     "text": [
      "P-value: 4.89304520189092e-38\n"
     ]
    }
   ],
   "source": [
    "#\n",
    "res = stats.f_oneway(\n",
    "    *[data[data['Company'] == company]['Price'] for company in data['Company'].unique()]\n",
    ")\n",
    "print('P-value:',res.pvalue)"
   ]
  },
  {
   "cell_type": "markdown",
   "metadata": {},
   "source": [
    "Since the p-value is very small (smaller than 0.05), it can be concluded that there is a statistically significant difference in laptop prices by brand."
   ]
  },
  {
   "cell_type": "markdown",
   "metadata": {},
   "source": [
    "### Data Visualization"
   ]
  },
  {
   "cell_type": "code",
   "execution_count": 72,
   "metadata": {},
   "outputs": [
    {
     "data": {
      "image/png": "[encoded data removed]",
      "text/plain": [
       "<Figure size 1000x600 with 1 Axes>"
      ]
     },
     "metadata": {},
     "output_type": "display_data"
    }
   ],
   "source": [
    "brand_counts = data['Company'].value_counts(ascending=False)\n",
    "\n",
    "\n",
    "# # Menggambarkan top 10 brand\n",
    "plt.figure(figsize=(10, 6))\n",
    "sns.barplot(x=brand_counts.head(10).index, y=brand_counts.head(10).values)\n",
    "plt.title('Top 10 Brand berdasarkan jumlah product', fontsize=16)\n",
    "plt.xlabel('Brand', fontsize=12)\n",
    "plt.ylabel('Number of Products', fontsize=12)\n",
    "plt.xticks(rotation=45)\n",
    "plt.grid(axis='y', linestyle='--', alpha=0.7)\n",
    "plt.tight_layout()\n",
    "plt.show()\n"
   ]
  },
  {
   "cell_type": "markdown",
   "metadata": {},
   "source": [
    "The graph above shows the 10 laptop brands with the highest number of products. Dell, Lenovo, and HP brands dominate the number of products in the dataset."
   ]
  },
  {
   "cell_type": "markdown",
   "metadata": {},
   "source": [
    "    Case: What type of laptop does the brand release the most?"
   ]
  },
  {
   "cell_type": "code",
   "execution_count": 73,
   "metadata": {},
   "outputs": [],
   "source": [
    "# Hitung banyaknya laptop berdasarkan tipe untuk setiap brand\n",
    "type_count_by_company = data.groupby(\"Company\")[\"TypeName\"].value_counts().unstack(fill_value=0)"
   ]
  },
  {
   "cell_type": "code",
   "execution_count": 74,
   "metadata": {},
   "outputs": [
    {
     "data": {
      "image/png": "[encoded data removed]",
      "text/plain": [
       "<Figure size 1400x800 with 1 Axes>"
      ]
     },
     "metadata": {},
     "output_type": "display_data"
    }
   ],
   "source": [
    "# gambarkan distribusi dari tipe laptop berdasarkan brand\n",
    "type_count_by_company.plot(kind=\"bar\", stacked=True, figsize=(14, 8), colormap=\"tab20\")\n",
    "\n",
    "plt.title(\"Distribusi Tipe Laptop Berdasarkan Company\", fontsize=14)\n",
    "plt.xlabel(\"Company\", fontsize=12)\n",
    "plt.ylabel(\"Count of Laptop Types\", fontsize=12)\n",
    "plt.xticks(rotation=45)\n",
    "plt.legend(title=\"Tipe Laptop\", bbox_to_anchor=(1.05, 1), loc=\"upper left\")\n",
    "plt.grid(axis=\"y\", linestyle=\"--\", alpha=0.6)\n",
    "plt.tight_layout()\n",
    "plt.show()"
   ]
  },
  {
   "cell_type": "markdown",
   "metadata": {},
   "source": [
    "The graph above shows the distribution of laptop types by brand.<br>\n",
    "Based on the data of the graph, we can conclude that:\n",
    "\n",
    "1. Notebook is the most common type produced by many brands, mainly by Dell, HP, and Lenovo.\n",
    "2. Ultrabooks are often found in brands such as Apple and Dell.\n",
    "3. Gaming laptops dominate MSI's production.\n",
    "4. Specific types such as 2 in 1 Convertibles are more often produced by Lenovo and Dell."
   ]
  },
  {
   "cell_type": "markdown",
   "metadata": {},
   "source": [
    "    Case: Bagaimana korelasi antara RAM dan Harga?"
   ]
  },
  {
   "cell_type": "code",
   "execution_count": 75,
   "metadata": {},
   "outputs": [
    {
     "name": "stdout",
     "output_type": "stream",
     "text": [
      "Korelasi Antara RAM dan Harga:\n",
      "r: 0.740292375009767\n",
      "P-Value: 9.022152168236277e-222\n"
     ]
    }
   ],
   "source": [
    "corr_ram = stats.pearsonr(data[\"RAM (GB)\"], data[\"Price\"])\n",
    "print('Korelasi Antara RAM dan Harga:')\n",
    "print('r:', corr_ram.statistic)\n",
    "print('P-Value:', corr_ram.pvalue)"
   ]
  },
  {
   "cell_type": "code",
   "execution_count": 76,
   "metadata": {},
   "outputs": [
    {
     "data": {
      "image/png": "[encoded data removed]",
      "text/plain": [
       "<Figure size 640x480 with 1 Axes>"
      ]
     },
     "metadata": {},
     "output_type": "display_data"
    }
   ],
   "source": [
    "fig, ax = plt.subplots()\n",
    "\n",
    "ax.set_title('Korelasi Antara RAM dan Harga')\n",
    "ax.set_xlabel('RAM (GB)')\n",
    "ax.set_ylabel('Harga')\n",
    "\n",
    "sns.scatterplot(data=data ,x='RAM (GB)',y='Price',ax=ax)\n",
    "plt.show()"
   ]
  },
  {
   "cell_type": "markdown",
   "metadata": {},
   "source": [
    "Based on the data above, it can be concluded that:\n",
    "- With a Correlation value (r): 0.74, RAM has a strong positive relationship with Price, so it can be interpreted that laptop price has a significant and strong relationship with RAM capacity. The larger the RAM, the higher the price of the laptop\n",
    "- With p-value: 9.02 × 10-²²²"
   ]
  },
  {
   "cell_type": "markdown",
   "metadata": {},
   "source": [
    "    Case: What is the correlation between CPU Frequency and Price?"
   ]
  },
  {
   "cell_type": "code",
   "execution_count": 77,
   "metadata": {},
   "outputs": [
    {
     "name": "stdout",
     "output_type": "stream",
     "text": [
      "Korelasi Antara Frekuensi CPU dan Harga:\n",
      "r: 0.4288479367415287\n",
      "P-Value: 3.4413131705953736e-58\n"
     ]
    }
   ],
   "source": [
    "corr_cpu = stats.pearsonr(data['CPU_Frequency (GHz)'], data[\"Price\"])\n",
    "print('Korelasi Antara Frekuensi CPU dan Harga:')\n",
    "print('r:', corr_cpu.statistic)\n",
    "print('P-Value:', corr_cpu.pvalue)"
   ]
  },
  {
   "cell_type": "code",
   "execution_count": 78,
   "metadata": {},
   "outputs": [
    {
     "data": {
      "image/png": "[encoded data removed]",
      "text/plain": [
       "<Figure size 640x480 with 1 Axes>"
      ]
     },
     "metadata": {},
     "output_type": "display_data"
    }
   ],
   "source": [
    "fig, ax = plt.subplots()\n",
    "\n",
    "ax.set_title('Korelasi Antara Frekuensi CPU dan Harga')\n",
    "ax.set_xlabel('Frekuensi CPU (GHz)')\n",
    "ax.set_ylabel('Harga')\n",
    "\n",
    "sns.scatterplot(data=data ,x='CPU_Frequency (GHz)',y='Price',ax=ax)\n",
    "plt.show()"
   ]
  },
  {
   "cell_type": "markdown",
   "metadata": {},
   "source": [
    "Based on the data above, it can be concluded that:\n",
    "- With a Correlation value (r): 0.42, CPU Frequency has a moderate positive relationship with Price so it can be interpreted that CPU Frequency has a significant contribution to the price of laptops, although not as strong as RAM.\n",
    "- With p-value: 3.44 × 10-⁵⁸"
   ]
  },
  {
   "cell_type": "markdown",
   "metadata": {},
   "source": [
    "    Case: What is the correlation between memory type Score and Price?"
   ]
  },
  {
   "cell_type": "code",
   "execution_count": 79,
   "metadata": {},
   "outputs": [
    {
     "name": "stdout",
     "output_type": "stream",
     "text": [
      "Korelasi Antara Skor Tipe Memori dan Harga:\n",
      "r 0.4398185491248426\n",
      "P-Value 1.9005662239140273e-61\n"
     ]
    }
   ],
   "source": [
    "corr_memory_score = stats.pearsonr(data['Memory_Type_Score'], data[\"Price\"])\n",
    "print('Korelasi Antara Skor Tipe Memori dan Harga:')\n",
    "print('r', corr_memory_score.statistic)\n",
    "print('P-Value', corr_memory_score.pvalue)"
   ]
  },
  {
   "cell_type": "code",
   "execution_count": 80,
   "metadata": {},
   "outputs": [
    {
     "data": {
      "image/png": "[encoded data removed]",
      "text/plain": [
       "<Figure size 640x480 with 1 Axes>"
      ]
     },
     "metadata": {},
     "output_type": "display_data"
    }
   ],
   "source": [
    "fig, ax = plt.subplots()\n",
    "\n",
    "ax.set_title('Korelasi Antara Skor Tipe Memori dan Harga')\n",
    "ax.set_xlabel('Skor Tipe Memori')\n",
    "ax.set_ylabel('Harga')\n",
    "\n",
    "sns.scatterplot(data=data ,x='Memory_Type_Score',y='Price',ax=ax)\n",
    "plt.show()"
   ]
  },
  {
   "cell_type": "markdown",
   "metadata": {},
   "source": [
    "Based on the data above, it can be concluded that:\n",
    "- With a Correlation (r) value of: 0.42, the score of memory type has a moderate positive relationship with Price so it can be interpreted that memory type has a significant impact on laptop price, with higher memory type scores (possibly SSD) contributing to higher prices.\n",
    "- With a p-value of: 3.44 × 10-⁵⁸"
   ]
  },
  {
   "cell_type": "markdown",
   "metadata": {},
   "source": [
    "    Case: What is the correlation between GPU Type Score and Price?"
   ]
  },
  {
   "cell_type": "code",
   "execution_count": 81,
   "metadata": {},
   "outputs": [
    {
     "name": "stdout",
     "output_type": "stream",
     "text": [
      "Korelasi Antara Skor Tipe GPU dan Harga:\n",
      "r 0.017554184993961778\n",
      "P-Value 0.5311554137212773\n"
     ]
    }
   ],
   "source": [
    "corr_gpu_score = stats.pearsonr(data['GPU_Type_Score'], data[\"Price\"])\n",
    "\n",
    "print('Korelasi Antara Skor Tipe GPU dan Harga:')\n",
    "print('r', corr_gpu_score.statistic)\n",
    "print('P-Value', corr_gpu_score.pvalue)"
   ]
  },
  {
   "cell_type": "code",
   "execution_count": 82,
   "metadata": {},
   "outputs": [
    {
     "data": {
      "image/png": "[encoded data removed]",
      "text/plain": [
       "<Figure size 640x480 with 1 Axes>"
      ]
     },
     "metadata": {},
     "output_type": "display_data"
    }
   ],
   "source": [
    "fig, ax = plt.subplots()\n",
    "\n",
    "ax.set_title('Korelasi Antara Skor Tipe GPU dan Harga')\n",
    "ax.set_xlabel('Skor Tipe GPU')\n",
    "ax.set_ylabel('Price')\n",
    "\n",
    "sns.scatterplot(data=data ,x='GPU_Type_Score',y='Price',ax=ax)\n",
    "plt.show()"
   ]
  },
  {
   "cell_type": "markdown",
   "metadata": {},
   "source": [
    "Based on the data above, it can be concluded that:\n",
    "- With a Correlation (r) value: 0.017, CPU Frequency has a very weak and almost insignificant positive relationship with Price, so it can be interpreted that the GPU type score does not contribute significantly to the variation of laptop prices in this dataset.\n",
    "- With a p-value of: 3.44 × 10-⁵⁸"
   ]
  },
  {
   "cell_type": "markdown",
   "metadata": {},
   "source": [
    "Based on the four correlation data above, it can be concluded that:\n",
    "- RAM is the most significant specification in determining the price of a laptop.\n",
    "- CPU speed and storage memory type are also influential, although not as much as RAM.\n",
    "- GPU type does not seem to be a major factor in determining price, probably because most laptops use integrated GPUs."
   ]
  },
  {
   "cell_type": "markdown",
   "metadata": {},
   "source": [
    "# Conclusion"
   ]
  },
  {
   "cell_type": "markdown",
   "metadata": {},
   "source": [
    " Based on the analysis that has been done, to make a laptop purchase:\n",
    " 1. Determine the desired budget\n",
    " 2. In the selection of specifications:\n",
    "  - Focus on RAM for optimal working\n",
    "  - Choose SSD over HDD for better speed\n",
    "  - Choose a higher CPU Frequency.\n",
    " \n",
    "Based on this analysis, we can conclude that buyers can choose the optimal laptop they want according to their budget, here are the details:\n",
    "1. Low Budget (< 609 Euro):\n",
    " - Optimal laptop based on the analysis:\n",
    "  - Lenovo IdeaPad 520S-14IKB: 8 GB RAM, 256 GB SSD, Intel i3 CPU, 599 Euro\n",
    "2. Mid Budget (609 - 1,496 Euro):\n",
    " - Optimal laptop based on analysis:\n",
    "  - Asus G701VO-IH74K: 32 GB RAM, 512 GB SSD, Intel i7 CPU, Nvidia GTX 980M, 1,279 Euro\n",
    "3. High Budget (> 1,496 Euro):\n",
    " - Optimal laptop based on analysis:\n",
    "  - Asus ROG G701VO: 64 GB RAM, 1 TB SSD, Intel i7 CPU, Nvidia GTX 980, 3,975 Euro"
   ]
  }
 ],
 "metadata": {
  "kernelspec": {
   "display_name": "base",
   "language": "python",
   "name": "python3"
  },
  "language_info": {
   "codemirror_mode": {
    "name": "ipython",
    "version": 3
   },
   "file_extension": ".py",
   "mimetype": "text/x-python",
   "name": "python",
   "nbconvert_exporter": "python",
   "pygments_lexer": "ipython3",
   "version": "3.12.7"
  }
 },
 "nbformat": 4,
 "nbformat_minor": 2
}
